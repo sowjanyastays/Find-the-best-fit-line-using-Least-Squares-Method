{
 "cells": [
  {
   "cell_type": "code",
   "execution_count": 2,
   "metadata": {},
   "outputs": [
    {
     "name": "stdout",
     "output_type": "stream",
     "text": [
      "slope= -1.0423197492163008\n",
      "\n",
      " 13.462382445141065\n",
      "[ 5.12382445 11.37774295  1.9968652   7.20846395 10.3354232   9.29310345\n",
      "  0.95454545  4.0815047   7.20846395 12.4200627 ]\n",
      "if x=3: 10.335423197492162\n"
     ]
    },
    {
     "data": {
      "image/png": "[encoded data removed]",
      "text/plain": [
       "<Figure size 432x288 with 1 Axes>"
      ]
     },
     "metadata": {
      "needs_background": "light"
     },
     "output_type": "display_data"
    }
   ],
   "source": [
    "import numpy as np\n",
    "import matplotlib.pyplot as plt\n",
    "x = np.array(eval(input()))\n",
    "y = np.array(eval(input()))\n",
    "x_mean = np.mean(x)\n",
    "y_mean = np.mean(y)\n",
    "num, den= 0, 0\n",
    "for i in range((len(x))):\n",
    "  num += (x[i]-y_mean)*(y[i]-y_mean)\n",
    "  den += (x[i]-x_mean)**2\n",
    "m = num/den\n",
    "b = y_mean - (m*x_mean)\n",
    "print(\"slope=\",m)\n",
    "print(\"\\n\",b)\n",
    "\n",
    "y_predicted=m*x+b\n",
    "print(y_predicted)\n",
    "\n",
    "#predict if x=3\n",
    "y_predict1 = m*3+b\n",
    "print(\"if x=3:\", y_predict1)\n",
    "\n",
    "\n",
    "plt.scatter(x,y)\n",
    "plt.plot(x, y_predicted,color='blue')\n",
    "plt.show()\n"
   ]
  }
 ],
 "metadata": {
  "kernelspec": {
   "display_name": "base",
   "language": "python",
   "name": "python3"
  },
  "language_info": {
   "codemirror_mode": {
    "name": "ipython",
    "version": 3
   },
   "file_extension": ".py",
   "mimetype": "text/x-python",
   "name": "python",
   "nbconvert_exporter": "python",
   "pygments_lexer": "ipython3",
   "version": "3.9.7"
  },
  "orig_nbformat": 4
 },
 "nbformat": 4,
 "nbformat_minor": 2
}
